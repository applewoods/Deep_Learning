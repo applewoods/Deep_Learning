{
 "cells": [
  {
   "cell_type": "code",
   "execution_count": 1,
   "metadata": {},
   "outputs": [],
   "source": [
    "import os\n",
    "# Keras에서 발생하는 경고 메시지 제거\n",
    "os.environ['TF_CPP_MIN_LOG_LEVEL'] = '2'\n",
    "\n",
    "import tensorflow as tf\n",
    "import numpy as np\n",
    "from tensorflow import keras\n",
    "from tensorflow.keras import layers\n",
    "from tensorflow.keras.models import Sequential\n",
    "from tensorflow.keras.layers import Dense\n",
    "from tensorflow.keras.optimizers import Adam"
   ]
  },
  {
   "cell_type": "code",
   "execution_count": 2,
   "metadata": {},
   "outputs": [],
   "source": [
    "tf.random.set_seed(22)\n",
    "np.random.seed(22)\n",
    "assert tf.__version__.startswith('2.')\n",
    "\n",
    "batch_size =128\n",
    "total_words = 10000\n",
    "max_review_len = 80\n",
    "embedding_len = 100"
   ]
  },
  {
   "cell_type": "code",
   "execution_count": 3,
   "metadata": {},
   "outputs": [
    {
     "name": "stdout",
     "output_type": "stream",
     "text": [
      "x_train_shape: (25000, 80) tf.Tensor(1, shape=(), dtype=int64) tf.Tensor(0, shape=(), dtype=int64)\n",
      "x_test_shape: (25000, 80)\n",
      "(128, 80)\n"
     ]
    }
   ],
   "source": [
    "(x_train, y_train), (x_test, y_test) = tf.keras.datasets.imdb.load_data(num_words= total_words)\n",
    "\n",
    "x_train = tf.keras.preprocessing.sequence.pad_sequences(x_train, maxlen=max_review_len)\n",
    "x_test = tf.keras.preprocessing.sequence.pad_sequences(x_test, maxlen=max_review_len)\n",
    "\n",
    "train_data = tf.data.Dataset.from_tensor_slices((x_train, y_train))\n",
    "train_data = train_data.shuffle(10000).batch(batch_size, drop_remainder= True)\n",
    "\n",
    "test_data = tf.data.Dataset.from_tensor_slices((x_test, y_test))\n",
    "test_data = test_data.batch(batch_size, drop_remainder= True)\n",
    "\n",
    "print('x_train_shape:', x_train.shape, tf.reduce_max(y_train), tf.reduce_min(y_train))\n",
    "print('x_test_shape:', x_test.shape)\n",
    "\n",
    "sample = next(iter(test_data))\n",
    "print(sample[0].shape)"
   ]
  },
  {
   "cell_type": "code",
   "execution_count": 4,
   "metadata": {},
   "outputs": [],
   "source": [
    "class RNN_Build(tf.keras.Model):\n",
    "    def __init__(self, units):\n",
    "        super(RNN_Build, self).__init__()\n",
    "\n",
    "        self.state0 = [tf.zeros([batch_size, units])]\n",
    "        self.state1 = [tf.zeros([batch_size, units])]\n",
    "        self.embedding = tf.keras.layers.Embedding(total_words, embedding_len, input_length= max_review_len)\n",
    "\n",
    "        self.RNNCell0 = tf.keras.layers.SimpleRNNCell(units, dropout= 0.2)\n",
    "        self.RNNCell1 = tf.keras.layers.SimpleRNNCell(units, dropout= 0.2)\n",
    "        self.outlayer = tf.keras.layers.Dense(1)\n",
    "\n",
    "    def call(self, inputs, training= None):\n",
    "        x = inputs\n",
    "        x = self.embedding(x)\n",
    "\n",
    "        state0 = self.state0\n",
    "        state1 = self.state1\n",
    "        for word in tf.unstack(x, axis= 1):\n",
    "            out0, state0 = self.RNNCell0(word, state0, training)\n",
    "            out1, state1 = self.RNNCell1(out0, state1, training)\n",
    "\n",
    "        x = self.outlayer(out1)\n",
    "        prob = tf.sigmoid(x)\n",
    "        return prob"
   ]
  },
  {
   "cell_type": "code",
   "execution_count": 5,
   "metadata": {},
   "outputs": [],
   "source": [
    "import time"
   ]
  },
  {
   "cell_type": "code",
   "execution_count": 6,
   "metadata": {},
   "outputs": [
    {
     "name": "stdout",
     "output_type": "stream",
     "text": [
      "Epoch 1/4\n",
      "195/195 [==============================] - 18s 93ms/step - loss: 0.5203 - accuracy: 0.6226\n",
      "Epoch 2/4\n",
      "193/195 [============================>.] - ETA: 0s - loss: 0.3190 - accuracy: 0.8699Epoch 1/4\n",
      "195/195 [==============================] - 4s 22ms/step - loss: 0.4004 - accuracy: 0.8190\n",
      "195/195 [==============================] - 13s 69ms/step - loss: 0.3192 - accuracy: 0.8699 - val_loss: 0.4004 - val_accuracy: 0.8190\n",
      "Epoch 3/4\n",
      "195/195 [==============================] - 9s 48ms/step - loss: 0.2112 - accuracy: 0.9209\n",
      "Epoch 4/4\n",
      "194/195 [============================>.] - ETA: 0s - loss: 0.1111 - accuracy: 0.9594Epoch 1/4\n",
      "195/195 [==============================] - 3s 14ms/step - loss: 0.6613 - accuracy: 0.8212\n",
      "195/195 [==============================] - 12s 60ms/step - loss: 0.1113 - accuracy: 0.9594 - val_loss: 0.6613 - val_accuracy: 0.8212\n"
     ]
    },
    {
     "data": {
      "text/plain": [
       "<tensorflow.python.keras.callbacks.History at 0x7f70d6471ba8>"
      ]
     },
     "execution_count": 6,
     "metadata": {},
     "output_type": "execute_result"
    }
   ],
   "source": [
    "units = 64\n",
    "epochs = 4\n",
    "t0 = time.time()\n",
    "\n",
    "model = RNN_Build(units)\n",
    "model.compile(\n",
    "    optimizer= tf.keras.optimizers.Adam(0.001),\n",
    "    loss= tf.losses.BinaryCrossentropy(),\n",
    "    metrics= ['accuracy'],\n",
    "    experimental_run_tf_function= False\n",
    ")\n",
    "\n",
    "model.fit(train_data, epochs= epochs, validation_data= test_data, validation_freq= 2)"
   ]
  },
  {
   "cell_type": "code",
   "execution_count": 7,
   "metadata": {},
   "outputs": [
    {
     "name": "stdout",
     "output_type": "stream",
     "text": [
      "훈련 데이터셋 평가\n",
      "loss= 0.0518, accuracy: 98.0809%\n",
      "시간: 55.273107290267944\n",
      "테스트 데이터셋 평가\n",
      "loss= 0.6613, accuracy: 82.1154%\n",
      "시간: 58.11088967323303\n"
     ]
    }
   ],
   "source": [
    "print(\"훈련 데이터셋 평가\")\n",
    "(loss, accuracy) = model.evaluate(train_data, verbose= 0)\n",
    "\n",
    "print(\"loss= {:.4f}, accuracy: {:.4f}%\".format(loss, accuracy * 100))\n",
    "t1 = time.time()\n",
    "print('시간:', t1-t0)\n",
    "\n",
    "print(\"테스트 데이터셋 평가\")\n",
    "(loss, accuracy) = model.evaluate(test_data, verbose= 0)\n",
    "\n",
    "print(\"loss= {:.4f}, accuracy: {:.4f}%\".format(loss, accuracy * 100))\n",
    "t1 = time.time()\n",
    "print('시간:', t1-t0)"
   ]
  },
  {
   "cell_type": "code",
   "execution_count": 14,
   "metadata": {},
   "outputs": [],
   "source": [
    "class RNN_Build(tf.keras.Model):\n",
    "    def __init__(self, units):\n",
    "        super(RNN_Build, self).__init__()\n",
    "        self.embedding = tf.keras.layers.Embedding(total_words, embedding_len, input_length= max_review_len)\n",
    "\n",
    "        self.rnn = tf.keras.Sequential([\n",
    "            tf.keras.layers.SimpleRNN(units, dropout= 0.5, return_sequences= True),\n",
    "            tf.keras.layers.SimpleRNN(units, dropout= 0.5)\n",
    "        ])\n",
    "        self.outlayer = tf.keras.layers.Dense(1)\n",
    "\n",
    "    def call(self, inputs, training= None):\n",
    "        x = inputs\n",
    "        x = self.embedding(x)\n",
    "        x = self.rnn(x)\n",
    "        x = self.outlayer(x)\n",
    "        prob = tf.sigmoid(x)\n",
    "\n",
    "        return prob"
   ]
  },
  {
   "cell_type": "code",
   "execution_count": 15,
   "metadata": {},
   "outputs": [
    {
     "name": "stdout",
     "output_type": "stream",
     "text": [
      "Epoch 1/4\n",
      "195/195 [==============================] - 17s 88ms/step - loss: 0.6120 - accuracy: 0.5522\n",
      "Epoch 2/4\n",
      "194/195 [============================>.] - ETA: 0s - loss: 0.3977 - accuracy: 0.8121Epoch 1/4\n",
      "195/195 [==============================] - 6s 33ms/step - loss: 0.4403 - accuracy: 0.8212\n",
      "195/195 [==============================] - 22s 110ms/step - loss: 0.3978 - accuracy: 0.8123 - val_loss: 0.4403 - val_accuracy: 0.8212\n",
      "Epoch 3/4\n",
      "195/195 [==============================] - 16s 83ms/step - loss: 0.3247 - accuracy: 0.8678\n",
      "Epoch 4/4\n",
      "194/195 [============================>.] - ETA: 0s - loss: 0.2727 - accuracy: 0.8975Epoch 1/4\n",
      "195/195 [==============================] - 7s 34ms/step - loss: 0.4583 - accuracy: 0.8253\n",
      "195/195 [==============================] - 22s 113ms/step - loss: 0.2728 - accuracy: 0.8975 - val_loss: 0.4583 - val_accuracy: 0.8253\n"
     ]
    },
    {
     "data": {
      "text/plain": [
       "<tensorflow.python.keras.callbacks.History at 0x7f70cdc743c8>"
      ]
     },
     "execution_count": 15,
     "metadata": {},
     "output_type": "execute_result"
    }
   ],
   "source": [
    "units = 64\n",
    "epochs = 4\n",
    "t0 = time.time()\n",
    "\n",
    "model = RNN_Build(units)\n",
    "model.compile(\n",
    "    optimizer= tf.keras.optimizers.Adam(0.001),\n",
    "    loss= tf.losses.BinaryCrossentropy(),\n",
    "    metrics= ['accuracy'],\n",
    "    experimental_run_tf_function= False\n",
    ")\n",
    "\n",
    "model.fit(train_data, epochs= epochs, validation_data= test_data, validation_freq= 2)"
   ]
  },
  {
   "cell_type": "code",
   "execution_count": 17,
   "metadata": {},
   "outputs": [
    {
     "name": "stdout",
     "output_type": "stream",
     "text": [
      "훈련 데이터셋 평가\n",
      "loss= 0.1981, accuracy: 92.3357%\n",
      "시간: 104.54955339431763\n",
      "테스트 데이터셋 평가\n",
      "loss= 0.4583, accuracy: 82.5321%\n",
      "시간: 109.90021848678589\n"
     ]
    }
   ],
   "source": [
    "print(\"훈련 데이터셋 평가\")\n",
    "(loss, accuracy) = model.evaluate(train_data, verbose= 0)\n",
    "\n",
    "print(\"loss= {:.4f}, accuracy: {:.4f}%\".format(loss, accuracy * 100))\n",
    "t1 = time.time()\n",
    "print('시간:', t1-t0)\n",
    "\n",
    "print(\"테스트 데이터셋 평가\")\n",
    "(loss, accuracy) = model.evaluate(test_data, verbose= 0)\n",
    "\n",
    "print(\"loss= {:.4f}, accuracy: {:.4f}%\".format(loss, accuracy * 100))\n",
    "t1 = time.time()\n",
    "print('시간:', t1-t0)"
   ]
  },
  {
   "cell_type": "code",
   "execution_count": null,
   "metadata": {},
   "outputs": [],
   "source": []
  }
 ],
 "metadata": {
  "interpreter": {
   "hash": "45150093197569bb3a58481dcd32cd1adb45462fa3448719e8ac38ada6166aca"
  },
  "kernelspec": {
   "display_name": "Python 3.6.10 ('tensorflow2_p36')",
   "language": "python",
   "name": "python3"
  },
  "language_info": {
   "codemirror_mode": {
    "name": "ipython",
    "version": 3
   },
   "file_extension": ".py",
   "mimetype": "text/x-python",
   "name": "python",
   "nbconvert_exporter": "python",
   "pygments_lexer": "ipython3",
   "version": "3.6.10"
  },
  "orig_nbformat": 4
 },
 "nbformat": 4,
 "nbformat_minor": 2
}
